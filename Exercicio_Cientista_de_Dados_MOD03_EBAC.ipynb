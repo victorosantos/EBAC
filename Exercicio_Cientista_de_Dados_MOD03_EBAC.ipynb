{
 "cells": [
  {
   "cell_type": "markdown",
   "metadata": {
    "id": "SEE0vQsW83yB"
   },
   "source": [
    "### 01 - Teste de gravidez\n",
    ".Escreva uma célula com controle de fluxos que tem como premissa a existência das seguintes variáveis:\n",
    "\n",
    "- ```sexo``` como ```str``` indicando os valores '**M**' para masculino e '**F**' para feminino  \n",
    "- ```beta_hcg``` que indica a quantidade do beta-HCG no sangue em mUI/mL.\n",
    "\n",
    "A sua tarefa é escrever um código que imprima como resultado \"indivíduo do sexo masculino\" quando sexo = 'M', caso sexo = 'F', se o valor de beta-HCG for maior que 5, retorne \"Positivo\" indicando que a paciente está grávida, e retorne \"Negativo\" caso contrário.\n",
    "\n",
    "Não mexa nos valores da variável ```sexo``` nem em ```beta_hcg```, e escreva um código que funcione para quaisquer valores possíveis de ambos: ```sexo``` = '**M**' ou '**F**' e ```beta_hcg``` assumindo valores inteiros positivos."
   ]
  },
  {
   "cell_type": "code",
   "execution_count": 5,
   "metadata": {
    "id": "cTOc4LG683yE"
   },
   "outputs": [
    {
     "name": "stdout",
     "output_type": "stream",
     "text": [
      "Indivíduo do sexo masculino\n"
     ]
    }
   ],
   "source": [
    "sexo = 'M'\n",
    "beta_hcg = 0\n",
    "\n",
    "# seu código vem abaixo desta linha\n",
    "\n",
    "if sexo == 'M':\n",
    "    print('Indivíduo do sexo masculino')\n",
    "\n",
    "elif sexo == 'F' and beta_hcg > 5:\n",
    "    print('Positivo')\n",
    "else:\n",
    "    print('Negativo')\n",
    "\n"
   ]
  },
  {
   "cell_type": "markdown",
   "metadata": {
    "id": "uCoIZDE383yF"
   },
   "source": [
    "### 02 - Renomeando variáveis\n",
    "\n",
    "Vamos ver adiante que uma forma de renomear variáveis de um conjunto de dados é através de dicionários - o dicionário deve conter como chave o nome original, associando a cada chave um único valor (tipo *str*) que contenha o nome novo.\n",
    "\n",
    "A sua tarefa é escrever um dicionário que possa ser utilizado para traduzir as variáveis ```name``` (nome), ```age``` (idade) e ```income``` (renda). Ou seja, esse dicionário deve relacionar as chaves *name, age* e *income* às suas respectivas traduções."
   ]
  },
  {
   "cell_type": "code",
   "execution_count": 6,
   "metadata": {
    "id": "Bh6ijpbu83yG",
    "outputId": "58fbd8da-ed1d-4e05-df85-041c821948f2"
   },
   "outputs": [
    {
     "data": {
      "text/plain": [
       "{'name': 'nome', 'age': 'idade', 'income': 'renda'}"
      ]
     },
     "execution_count": 6,
     "metadata": {},
     "output_type": "execute_result"
    }
   ],
   "source": [
    "dic_renomeacao = {'name': 'nome', 'age': 'idade', 'income':'renda'}\n",
    "dic_renomeacao"
   ]
  },
  {
   "cell_type": "markdown",
   "metadata": {
    "id": "95zumO5g83yH"
   },
   "source": [
    "### 03 - É divisível?\n",
    "A sua tarefa é escrever um código que indique se um número ```N``` é divisível por um número P. Escreva um programa que faça essa verificação para quaisquer combinações de ```N``` e ```M``` e devolva uma mensagem indicativa no output."
   ]
  },
  {
   "cell_type": "code",
   "execution_count": 13,
   "metadata": {
    "id": "BR2zOhmN83yI"
   },
   "outputs": [
    {
     "name": "stdout",
     "output_type": "stream",
     "text": [
      "42 É divisível por 7\n"
     ]
    }
   ],
   "source": [
    "N = 42\n",
    "M = 7\n",
    "\n",
    "#Seu código\n",
    "\n",
    "if N % M == 0:\n",
    "    print(f'{N} É divisível por {M}')\n",
    "else:\n",
    "    print(f'{N} NÃO é divisível por {M}')"
   ]
  },
  {
   "cell_type": "markdown",
   "metadata": {
    "id": "0d5Kdrz283yJ"
   },
   "source": [
    "### 04 - Números primos\n",
    "> Um número **N** é primo se e somente se é divisível por 1, -1, por **N** e por -**N**.  \n",
    "\n",
    "Escreva um script que verifica se ```N``` é um número primo, verificando se ```N``` é divisível por todos os números de ```1``` a ```N-1```. Você vai precisar usar alguma ferramenta de *loop* que você aprendeu para isto. No final, devolva uma mensagem no output indicando se o número é primo ou não."
   ]
  },
  {
   "cell_type": "code",
   "execution_count": 17,
   "metadata": {
    "id": "h_lFO-EO83yJ"
   },
   "outputs": [
    {
     "name": "stdout",
     "output_type": "stream",
     "text": [
      "47 É um número primo\n"
     ]
    }
   ],
   "source": [
    "N = 47\n",
    "\n",
    "# seu código abaixo\n",
    "\n",
    "for i in range(2, N):\n",
    "    if N % i == 0:\n",
    "        print(f'{N} NÃO é um número primo')\n",
    "        break\n",
    "    else:\n",
    "        print(f'{N} É um número primo')\n",
    "        break"
   ]
  },
  {
   "cell_type": "markdown",
   "metadata": {
    "id": "zHwDnURO83yK"
   },
   "source": [
    "### 05 - Desafio\n",
    "O algorítmo do exercício anterior não é o mais eficiente. O que você pode fazer para deixá-lo mais eficiente? Ou seja, executar menos comparações, portanto consumir menos tempo.\n",
    "1. Será que precisamos correr o loop até o final sempre?\n",
    "2. Será que precisamos mesmo verificar **todos** os números?\n",
    "3. Será que precisamos ir até N-1?\n",
    "\n",
    "Essas perguntas levam ao tipo de pensamento voltado a deixar um algoritmo mais eficiente. Veja se você consegue melhorar o seu."
   ]
  },
  {
   "cell_type": "code",
   "execution_count": 20,
   "metadata": {
    "id": "DDdwfZOL83yM"
   },
   "outputs": [
    {
     "name": "stdout",
     "output_type": "stream",
     "text": [
      "98 NÃO é primo\n"
     ]
    }
   ],
   "source": [
    "N = 98\n",
    "\n",
    "# seu código aqui\n",
    "\n",
    "#Para deixar o código mais eficiente e menor podemos utiliza um def e depois realizar o que foi solicitado\n",
    "\n",
    "def identificar_primo (numero):\n",
    "    if numero < 2:\n",
    "        return False\n",
    "    for i in range(2, int (numero ** 0.5)+1):\n",
    "        if numero % i == 0:\n",
    "            return False\n",
    "    return True\n",
    "\n",
    "\n",
    "if identificar_primo (N):\n",
    "    print(f'{N} É primo')\n",
    "else:\n",
    "    print(f'{N} NÃO é primo')"
   ]
  },
  {
   "cell_type": "markdown",
   "metadata": {
    "id": "4zhVSQan83yN"
   },
   "source": [
    "### 06 - Peso ideal 1\n",
    "O IMC (índice de massa corpórea) é um indicador de saúde mais bem aceito que o peso. Ele é calculado como:\n",
    "\n",
    "$$ IMC = \\dfrac{peso}{altura^2}$$\n",
    "\n",
    "Segundo a OMS, valores *normais* são entre 18.5 e 24.9.\n",
    "\n",
    "Sua tarefa é encontrar o ponto médio dessa faixa."
   ]
  },
  {
   "cell_type": "code",
   "execution_count": 21,
   "metadata": {
    "id": "3DzxicN983yO",
    "outputId": "6a947e58-88b2-4764-a9ca-717b971adb3d"
   },
   "outputs": [
    {
     "data": {
      "text/plain": [
       "21.7"
      ]
     },
     "execution_count": 21,
     "metadata": {},
     "output_type": "execute_result"
    }
   ],
   "source": [
    "imc_ideal = (24.9 + 18.5) / 2\n",
    "imc_ideal"
   ]
  },
  {
   "cell_type": "markdown",
   "metadata": {
    "id": "Z8uBOym483yP"
   },
   "source": [
    "### 07 - Peso ideal 2\n",
    "Recebendo um valor de altura, encontre o peso '*ideal*' dessa pessoa, que fornece o IMC encontrado acima"
   ]
  },
  {
   "cell_type": "code",
   "execution_count": 37,
   "metadata": {
    "id": "rrNwycte83yP",
    "outputId": "0e63b2ff-3743-48c7-a472-b48a450a0867"
   },
   "outputs": [
    {
     "data": {
      "text/plain": [
       "62.712999999999994"
      ]
     },
     "execution_count": 37,
     "metadata": {},
     "output_type": "execute_result"
    }
   ],
   "source": [
    "altura = 1.70\n",
    "\n",
    "# Seu código\n",
    "peso_ideal = (1.7 ** 2) * 21.7\n",
    "peso_ideal"
   ]
  },
  {
   "cell_type": "markdown",
   "metadata": {
    "id": "zEdM6J_i83yP"
   },
   "source": [
    "### 08 - Peso ideal 3\n",
    "Dada uma lista contendo as alturas de pacientes, crie uma nova lista que contenha o peso '*ideal*' (que fornece o IMC calculado em **Peso ideal 1**) desses pacientes."
   ]
  },
  {
   "cell_type": "code",
   "execution_count": 38,
   "metadata": {
    "id": "KN1mB_My83yQ",
    "outputId": "f070d54d-c156-4546-e3c7-b5bc500059d9"
   },
   "outputs": [
    {
     "data": {
      "text/plain": [
       "[82.51424999999999, 91.19425, 62.712999999999994, 59.07824999999999]"
      ]
     },
     "execution_count": 38,
     "metadata": {},
     "output_type": "execute_result"
    }
   ],
   "source": [
    "lista_alturas = [1.95, 2.05, 1.70, 1.65]\n",
    "\n",
    "lista_peso_ideal = []\n",
    "\n",
    "# seu código\n",
    "\n",
    "for altura in lista_alturas:\n",
    "    peso_ideal = (altura ** 2) * 21.7\n",
    "    lista_peso_ideal.append(peso_ideal)\n",
    "\n",
    "lista_peso_ideal"
   ]
  },
  {
   "cell_type": "markdown",
   "metadata": {
    "id": "8OKAtYQM83yQ"
   },
   "source": [
    "### 09 - Peso ideal 4\n",
    "Dada uma lista de tuplas - cada elemento da lista é uma tupla contendo altura e peso de um paciente - crie uma nova lista com o IMC desses pacientes."
   ]
  },
  {
   "cell_type": "code",
   "execution_count": 2,
   "metadata": {
    "id": "FaXgkjzI83yQ",
    "outputId": "8adc5e59-8a72-42db-db6b-6895587e875e"
   },
   "outputs": [
    {
     "data": {
      "text/plain": [
       "[27.777777777777775, 27.548209366391188, 19.188070502453332]"
      ]
     },
     "execution_count": 2,
     "metadata": {},
     "output_type": "execute_result"
    }
   ],
   "source": [
    "altura_peso = [(1.80, 90), (1.65, 75), (1.91, 70)]\n",
    "\n",
    "imc = []\n",
    "\n",
    "# seu código\n",
    "\n",
    "for i in altura_peso:\n",
    "    altura, peso = i\n",
    "    imc_individuo = peso / altura ** 2\n",
    "    imc.append(imc_individuo)\n",
    "    \n",
    "imc"
   ]
  },
  {
   "cell_type": "markdown",
   "metadata": {
    "id": "kZdSJqJq83yR"
   },
   "source": [
    "### 10 - Peso ideal 5\n",
    "Dada uma lista de **listas** - cada elemento da lista é uma **lista** contendo altura e peso de um paciente, adicione mais um elemento à lista de cada paciente contendo o IMC do paciente. Verifique também se é 'baixo', 'normal' ou 'alto' segundo os padrões da OMS em que normal é entre 18.5 e 24.9.\n",
    "\n",
    "Reflexão: por que no problema anterior temos que criar uma nova lista, e não podemos adicionar os dados de cada indivíduo à tupla?"
   ]
  },
  {
   "cell_type": "markdown",
   "metadata": {},
   "source": [
    "**Resposta a reflexão:** As tuplas são em python são imutaveis, ou seja, uma vez criada não pode ser alterada, devido a isso para alterar ou adicionar dados devido a isso, é melhor criar uma nova lista para armazenamento poi "
   ]
  },
  {
   "cell_type": "code",
   "execution_count": 3,
   "metadata": {
    "id": "EwszojP283yR"
   },
   "outputs": [
    {
     "data": {
      "text/plain": [
       "[[1.8, 90, 27.777777777777775, 'alto'],\n",
       " [1.65, 75, 27.548209366391188, 'alto'],\n",
       " [1.91, 70, 19.188070502453332, 'normal']]"
      ]
     },
     "execution_count": 3,
     "metadata": {},
     "output_type": "execute_result"
    }
   ],
   "source": [
    "altura_peso = [[1.80, 90], [1.65, 75], [1.91, 70]]\n",
    "\n",
    "# seu código\n",
    "\n",
    "for i in altura_peso:\n",
    "    altura, peso = i\n",
    "    imc_individuo = peso / altura ** 2\n",
    "    if imc_individuo > 24.9:\n",
    "        verificar_IMC = 'alto'\n",
    "    elif imc_individuo < 18.5:\n",
    "        verificar_IMC = 'baixo'\n",
    "    else:\n",
    "        verificar_IMC = 'normal'\n",
    "    i.append(imc_individuo)\n",
    "    i.append(verificar_IMC)\n",
    "\n",
    "altura_peso"
   ]
  }
 ],
 "metadata": {
  "colab": {
   "collapsed_sections": [],
   "provenance": []
  },
  "kernelspec": {
   "display_name": "Python 3 (ipykernel)",
   "language": "python",
   "name": "python3"
  },
  "language_info": {
   "codemirror_mode": {
    "name": "ipython",
    "version": 3
   },
   "file_extension": ".py",
   "mimetype": "text/x-python",
   "name": "python",
   "nbconvert_exporter": "python",
   "pygments_lexer": "ipython3",
   "version": "3.11.7"
  }
 },
 "nbformat": 4,
 "nbformat_minor": 4
}
